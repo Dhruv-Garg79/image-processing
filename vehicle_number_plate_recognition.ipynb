{
 "cells": [
  {
   "cell_type": "code",
   "execution_count": 3,
   "metadata": {},
   "outputs": [],
   "source": [
    "import numpy as np\n",
    "import cv2\n",
    "import matplotlib.pyplot as plt\n",
    "%matplotlib inline\n",
    "from PIL import Image\n",
    "from copy import deepcopy\n",
    "import pytesseract as tess"
   ]
  },
  {
   "cell_type": "code",
   "execution_count": 4,
   "metadata": {},
   "outputs": [],
   "source": [
    "def preprocess(img):\n",
    "    b, g, r = cv2.split(img)\n",
    "    img = cv2.merge([r, g, b])\n",
    "    plt.imshow(img)\n",
    "    \n",
    "    r, g, b = cv2.split(img)\n",
    "    img = cv2.merge([b, g, r])\n",
    "    img_blurred = cv2.GaussianBlur(img, (5, 5), 0)\n",
    "    gray = cv2.cvtColor(img_blurred, cv2.COLOR_BGR2GRAY)\n",
    "    \n",
    "    sobelx = cv2.Sobel(gray, cv2.CV_8U, 1, 0, ksize = 3)\n",
    "    \n",
    "    ret2, threshold_img = cv2.threshold(sobelx, 0, 255, cv2.THRESH_BINARY + cv2.THRESH_OTSU)\n",
    "    \n",
    "    return threshold_img"
   ]
  },
  {
   "cell_type": "code",
   "execution_count": 5,
   "metadata": {},
   "outputs": [],
   "source": [
    "def clean_plate(plate):\n",
    "    print(\"cleaning number plate\")\n",
    "    \n",
    "    gray = cv2.cvtColor(plate, cv2.COLOR_BGR2GRAY)\n",
    "    thresh = cv2.threshold(gray, 150, 255, cv2.THRESH_BINARY)[1]\n",
    "    im1, contours, hierarchy = cv2.findContours(thresh.copy(), cv2.RETR_EXTERNAL, cv2.CHAIN_APPROX_NONE)\n",
    "    \n",
    "    if contours:\n",
    "        areas = [cv2.contourArea(c) for c in contours]\n",
    "        max_index = np.argmax(areas)\n",
    "        \n",
    "        max_cnt = contours[max_index]\n",
    "        max_cntArea = areas[max_index]\n",
    "        \n",
    "        x, y, w, h = cv2.boundingRect(max_cnt)\n",
    "        \n",
    "        if not radioCheck(max_cntArea, w, h):\n",
    "            return plate, None\n",
    "        cleaned_final = thresh[y:y + h, x: x + w]\n",
    "        \n",
    "        return cleaned_final, [x, y, w, h]\n",
    "    \n",
    "    else:\n",
    "        return plate, None    "
   ]
  },
  {
   "cell_type": "code",
   "execution_count": 6,
   "metadata": {},
   "outputs": [],
   "source": [
    "def extract_contours(threshold_img):\n",
    "    element = cv2.getStructuringElement(shape = cv2.MORPH_RECT, ksize = (17, 3))\n",
    "    morph_img_threshold = threshold_img.copy()\n",
    "    cv2.morphologyEx(src = threshold_img, op = cv2.MORPH_CLOSE, kernel = element, dst = morph_img_threshold)\n",
    "    cv2.imshow(\"Morphed\", morph_img_threshold)\n",
    "    cv2.waitKey(0)\n",
    "    \n",
    "    im2, contours, hierarchy = cv2.findContours(morph_img_threshold, mode = cv2.RETR_EXTERNAL, method = cv2.CHAIN_APPROX_NONE)\n",
    "    return contours"
   ]
  },
  {
   "cell_type": "code",
   "execution_count": 7,
   "metadata": {},
   "outputs": [],
   "source": [
    "def radioCheck(area, width, height):\n",
    "    ratio = float(width) / float(height)\n",
    "    \n",
    "    if ratio < 1:\n",
    "        ratio = 1 / ratio\n",
    "        \n",
    "    aspect = 4.7272\n",
    "    min = 15 * aspect * 15\n",
    "    max = 125 * aspect * 125\n",
    "    \n",
    "    rmin = 3\n",
    "    rmax = 6\n",
    "    \n",
    "    if area in range(min, max + 1) or ratio in range(rmin, rmax + 1):\n",
    "        return True\n",
    "\n",
    "    return False\n",
    "        "
   ]
  },
  {
   "cell_type": "code",
   "execution_count": 8,
   "metadata": {},
   "outputs": [],
   "source": [
    "def isMaxWhite(plate):\n",
    "    avg = np.mean(plate)\n",
    "    \n",
    "    if avg >= 115:\n",
    "        return True\n",
    "    \n",
    "    return False"
   ]
  },
  {
   "cell_type": "code",
   "execution_count": 9,
   "metadata": {},
   "outputs": [],
   "source": [
    "def validateRotationAndRatio(rect):\n",
    "    (x, y), (width, height), rect_angle = rect\n",
    "    \n",
    "    if width > height:\n",
    "        angle = -rect_angle\n",
    "    else:\n",
    "        angle = 90 + rect_angle\n",
    "    \n",
    "    if angle > 15:\n",
    "        return False\n",
    "    \n",
    "    if height == 0 or width == 0:\n",
    "        return False\n",
    "    \n",
    "    area = height*width\n",
    "    \n",
    "    if not radioCheck(area, width, height):\n",
    "        return False\n",
    "\n",
    "    return True"
   ]
  },
  {
   "cell_type": "code",
   "execution_count": 10,
   "metadata": {},
   "outputs": [],
   "source": [
    "def cleanAndRead(img, contours):\n",
    "    for i, cnt in enumerate(contours):\n",
    "        min_rect = cv2.minAreaRect(cnt)\n",
    "        \n",
    "        if validateRotationAndRatio(min_rect):\n",
    "            \n",
    "            x, y, w, h = cv2.boundingRect(cnt)\n",
    "            plate_img = img[y: y + h, x: x + w]\n",
    "            \n",
    "            if (isMaxWhite(plate_img)):\n",
    "                clean_plate, rect = cleanPlate(plate_img)\n",
    "                \n",
    "            if rect:\n",
    "                x1, y1, w1, h1 = rect\n",
    "                x, y, w, h = x + x1, y + y1, w, h\n",
    "                b, g, r = cv2.split(clean_plate)\n",
    "                clean_plate = cv2.merge([r, g, b])\n",
    "                plt.imshow(clean_plate)\n",
    "                r, g, b = cv2.split(clean_plate)\n",
    "                clean_plate = cv2.merge([b, g, r])\n",
    "                \n",
    "                cv2.waitKey(0)\n",
    "                plate_im = Image.fromarray(clean_array)\n",
    "                \n",
    "                text = tess.image_to_string(plate_im, lang = \"eng\")\n",
    "                print(\"Detected Text: \", text)\n",
    "                \n",
    "                img = cv2.rectangle(img, (x, y), (x + w, y + h), (0, 255, 0), 2)\n",
    "                b, g, r = cv2.split(img)\n",
    "                img = cv2.merge([r, g, b])\n",
    "                plt.imshow(img)\n",
    "                r, g, b = cv2.split(img)\n",
    "                img = cv2.merge([b, g, r])\n",
    "                \n",
    "                cv2.waitKey(0)"
   ]
  },
  {
   "cell_type": "code",
   "execution_count": null,
   "metadata": {},
   "outputs": [
    {
     "name": "stdout",
     "output_type": "stream",
     "text": [
      "Detecting Plate\n"
     ]
    }
   ],
   "source": [
    "if __name__ == \"__main__\":\n",
    "    print(\"Detecting Plate\")\n",
    "    \n",
    "    img = cv2.imread(\"car.jpg\")\n",
    "    \n",
    "    threshold_img = preprocess(img)\n",
    "    contours = extract_contours(threshold_img)\n",
    "    \n",
    "    cleanAndRead(img, contours)"
   ]
  }
 ],
 "metadata": {
  "kernelspec": {
   "display_name": "Python 3",
   "language": "python",
   "name": "python3"
  },
  "language_info": {
   "codemirror_mode": {
    "name": "ipython",
    "version": 3
   },
   "file_extension": ".py",
   "mimetype": "text/x-python",
   "name": "python",
   "nbconvert_exporter": "python",
   "pygments_lexer": "ipython3",
   "version": "3.6.3"
  }
 },
 "nbformat": 4,
 "nbformat_minor": 2
}
